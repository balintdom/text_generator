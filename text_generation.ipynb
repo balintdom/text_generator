{
 "cells": [
  {
   "cell_type": "code",
   "execution_count": 1,
   "metadata": {},
   "outputs": [
    {
     "name": "stderr",
     "output_type": "stream",
     "text": [
      "C:\\Users\\balin\\miniconda3\\envs\\deep_learning\\lib\\site-packages\\ipykernel\\parentpoller.py:113: UserWarning: Parent poll failed.  If the frontend dies,\n",
      "                the kernel may be left running.  Please let us know\n",
      "                about your system (bitness, Python, etc.) at\n",
      "                ipython-dev@scipy.org\n",
      "  warnings.warn(\"\"\"Parent poll failed.  If the frontend dies,\n"
     ]
    }
   ],
   "source": [
    "%load_ext autoreload\n",
    "%autoreload 2"
   ]
  },
  {
   "cell_type": "markdown",
   "metadata": {},
   "source": [
    "## Data"
   ]
  },
  {
   "cell_type": "code",
   "execution_count": 2,
   "metadata": {},
   "outputs": [],
   "source": [
    "# load WebBeteg db\n",
    "import json\n",
    "\n",
    "with open('./data/WebBeteg', 'rb') as f:\n",
    "    database = json.load(f)['_default']\n",
    "\n",
    "keys = list(database.keys())\n",
    "\n",
    "webbeteg = ' '.join([database[k]['text'] for k in keys[:2000]])"
   ]
  },
  {
   "cell_type": "code",
   "execution_count": 4,
   "metadata": {},
   "outputs": [],
   "source": [
    "# load shakespeare db\n",
    "\n",
    "import tensorflow as tf\n",
    "from src.data import Dataset\n",
    "\n",
    "path_to_file = tf.keras.utils.get_file('shakespeare.txt', \n",
    "                                       'https://storage.googleapis.com/download.tensorflow.org/data/shakespeare.txt')\n",
    "shakespeare = open(path_to_file, 'rb').read().decode(encoding='utf-8')"
   ]
  },
  {
   "cell_type": "code",
   "execution_count": 5,
   "metadata": {},
   "outputs": [],
   "source": [
    "with open('./data/moliere_complete.txt', 'r') as f:\n",
    "    moliere = ''.join(list(f))"
   ]
  },
  {
   "cell_type": "code",
   "execution_count": 6,
   "metadata": {},
   "outputs": [],
   "source": [
    "dataset = Dataset(webbeteg)"
   ]
  },
  {
   "cell_type": "markdown",
   "metadata": {},
   "source": [
    "## Model"
   ]
  },
  {
   "cell_type": "code",
   "execution_count": 7,
   "metadata": {
    "scrolled": true
   },
   "outputs": [
    {
     "name": "stdout",
     "output_type": "stream",
     "text": [
      "Epoch 1/20\n",
      "184/184 [==============================] - 18s 68ms/step - loss: 3.4996\n",
      "Epoch 2/20\n",
      "184/184 [==============================] - 13s 68ms/step - loss: 3.3253\n",
      "Epoch 3/20\n",
      "184/184 [==============================] - 13s 68ms/step - loss: 2.8761\n",
      "Epoch 4/20\n",
      "184/184 [==============================] - 13s 68ms/step - loss: 2.7125\n",
      "Epoch 5/20\n",
      "184/184 [==============================] - 14s 69ms/step - loss: 2.4524\n",
      "Epoch 6/20\n",
      "184/184 [==============================] - 14s 69ms/step - loss: 2.2077\n",
      "Epoch 7/20\n",
      "184/184 [==============================] - 14s 69ms/step - loss: 2.0523\n",
      "Epoch 8/20\n",
      "184/184 [==============================] - 14s 69ms/step - loss: 1.9467\n",
      "Epoch 9/20\n",
      "184/184 [==============================] - 13s 68ms/step - loss: 1.8603\n",
      "Epoch 10/20\n",
      "184/184 [==============================] - 13s 67ms/step - loss: 1.8045\n",
      "Epoch 11/20\n",
      "184/184 [==============================] - 13s 66ms/step - loss: 1.7625\n",
      "Epoch 12/20\n",
      "184/184 [==============================] - 13s 66ms/step - loss: 1.7296\n",
      "Epoch 13/20\n",
      "184/184 [==============================] - 13s 67ms/step - loss: 1.6893\n",
      "Epoch 14/20\n",
      "184/184 [==============================] - 13s 67ms/step - loss: 1.6610\n",
      "Epoch 15/20\n",
      "184/184 [==============================] - 13s 68ms/step - loss: 1.6425\n",
      "Epoch 16/20\n",
      "184/184 [==============================] - 13s 68ms/step - loss: 1.6242\n",
      "Epoch 17/20\n",
      "184/184 [==============================] - 13s 66ms/step - loss: 1.6041\n",
      "Epoch 18/20\n",
      "184/184 [==============================] - 13s 66ms/step - loss: 1.5850\n",
      "Epoch 19/20\n",
      "184/184 [==============================] - 13s 66ms/step - loss: 1.5730\n",
      "Epoch 20/20\n",
      "184/184 [==============================] - 13s 66ms/step - loss: 1.5605\n",
      "Model: \"transformer_decoder\"\n",
      "_________________________________________________________________\n",
      "Layer (type)                 Output Shape              Param #   \n",
      "=================================================================\n",
      "embedding (Embedding)        multiple                  15872     \n",
      "_________________________________________________________________\n",
      "decoder_layer (DecoderLayer) multiple                  198272    \n",
      "_________________________________________________________________\n",
      "decoder_layer_1 (DecoderLaye multiple                  198272    \n",
      "_________________________________________________________________\n",
      "decoder_layer_2 (DecoderLaye multiple                  198272    \n",
      "_________________________________________________________________\n",
      "decoder_layer_3 (DecoderLaye multiple                  198272    \n",
      "_________________________________________________________________\n",
      "decoder_layer_4 (DecoderLaye multiple                  198272    \n",
      "_________________________________________________________________\n",
      "decoder_layer_5 (DecoderLaye multiple                  198272    \n",
      "_________________________________________________________________\n",
      "dropout_12 (Dropout)         multiple                  0         \n",
      "_________________________________________________________________\n",
      "dense_36 (Dense)             multiple                  15996     \n",
      "=================================================================\n",
      "Total params: 1,221,500\n",
      "Trainable params: 1,221,500\n",
      "Non-trainable params: 0\n",
      "_________________________________________________________________\n"
     ]
    }
   ],
   "source": [
    "from src.transformer_model import TransformerDecoder\n",
    "from src.train import train\n",
    "\n",
    "num_layers = 6\n",
    "d_model = 128\n",
    "dff = 512\n",
    "num_heads = 8\n",
    "dropout_rate = 0.1\n",
    "\n",
    "transformer = TransformerDecoder(\n",
    "    num_layers=num_layers,\n",
    "    d_model=d_model,\n",
    "    num_heads=num_heads,\n",
    "    dff=dff,\n",
    "    target_vocab_size=len(dataset.vocab),\n",
    "    maximum_position_encoding=100,\n",
    "    rate=dropout_rate)\n",
    "\n",
    "train(transformer,  dataset.dataset, 20)\n",
    "transformer.summary()"
   ]
  },
  {
   "cell_type": "code",
   "execution_count": 8,
   "metadata": {
    "scrolled": true
   },
   "outputs": [
    {
     "name": "stdout",
     "output_type": "stream",
     "text": [
      "Epoch 1/20\n",
      "184/184 [==============================] - 8s 26ms/step - loss: 3.4089\n",
      "Epoch 2/20\n",
      "184/184 [==============================] - 6s 26ms/step - loss: 2.5185\n",
      "Epoch 3/20\n",
      "184/184 [==============================] - 6s 27ms/step - loss: 2.2501\n",
      "Epoch 4/20\n",
      "184/184 [==============================] - 6s 27ms/step - loss: 2.0725\n",
      "Epoch 5/20\n",
      "184/184 [==============================] - 6s 26ms/step - loss: 1.9465\n",
      "Epoch 6/20\n",
      "184/184 [==============================] - 6s 27ms/step - loss: 1.8340\n",
      "Epoch 7/20\n",
      "184/184 [==============================] - 6s 26ms/step - loss: 1.7548\n",
      "Epoch 8/20\n",
      "184/184 [==============================] - 6s 27ms/step - loss: 1.6922\n",
      "Epoch 9/20\n",
      "184/184 [==============================] - 6s 26ms/step - loss: 1.6348\n",
      "Epoch 10/20\n",
      "184/184 [==============================] - 6s 26ms/step - loss: 1.5990\n",
      "Epoch 11/20\n",
      "184/184 [==============================] - 6s 27ms/step - loss: 1.5555\n",
      "Epoch 12/20\n",
      "184/184 [==============================] - 6s 27ms/step - loss: 1.5227\n",
      "Epoch 13/20\n",
      "184/184 [==============================] - 6s 27ms/step - loss: 1.4905\n",
      "Epoch 14/20\n",
      "184/184 [==============================] - 6s 26ms/step - loss: 1.4659\n",
      "Epoch 15/20\n",
      "184/184 [==============================] - 6s 27ms/step - loss: 1.4467\n",
      "Epoch 16/20\n",
      "184/184 [==============================] - 6s 27ms/step - loss: 1.4190\n",
      "Epoch 17/20\n",
      "184/184 [==============================] - 6s 27ms/step - loss: 1.4080\n",
      "Epoch 18/20\n",
      "184/184 [==============================] - 6s 27ms/step - loss: 1.3845\n",
      "Epoch 19/20\n",
      "184/184 [==============================] - 6s 27ms/step - loss: 1.3715\n",
      "Epoch 20/20\n",
      "184/184 [==============================] - 6s 27ms/step - loss: 1.3523\n",
      "Model: \"lstm_model\"\n",
      "_________________________________________________________________\n",
      "Layer (type)                 Output Shape              Param #   \n",
      "=================================================================\n",
      "embedding_1 (Embedding)      multiple                  15872     \n",
      "_________________________________________________________________\n",
      "lstm (LSTM)                  multiple                  1312768   \n",
      "_________________________________________________________________\n",
      "dense_37 (Dense)             multiple                  63612     \n",
      "=================================================================\n",
      "Total params: 1,392,252\n",
      "Trainable params: 1,392,252\n",
      "Non-trainable params: 0\n",
      "_________________________________________________________________\n"
     ]
    }
   ],
   "source": [
    "from src.rnn_model import LSTMModel\n",
    "from src.train import train\n",
    "\n",
    "# The embedding dimension\n",
    "embedding_dim = 128\n",
    "\n",
    "# Number of RNN units\n",
    "rnn_units = 512\n",
    "\n",
    "rnn_model = LSTMModel(\n",
    "    # Be sure the vocabulary size matches the `StringLookup` layers.\n",
    "    vocab_size=len(dataset.vocab),\n",
    "    embedding_dim=embedding_dim,\n",
    "    rnn_units=rnn_units)\n",
    "\n",
    "train(rnn_model, dataset.dataset, 20)\n",
    "rnn_model.summary()"
   ]
  },
  {
   "cell_type": "markdown",
   "metadata": {},
   "source": [
    "## Text generation"
   ]
  },
  {
   "cell_type": "code",
   "execution_count": 54,
   "metadata": {
    "scrolled": true
   },
   "outputs": [
    {
     "name": "stdout",
     "output_type": "stream",
     "text": [
      "3\n",
      "7\n",
      "11\n",
      "15\n",
      "19\n",
      "23\n",
      "27\n",
      "31\n",
      "35\n",
      "39\n",
      "43\n",
      "47\n",
      "51\n",
      "55\n",
      "59\n",
      "63\n",
      "67\n",
      "71\n",
      "75\n",
      "79\n",
      "83\n",
      "87\n",
      "91\n",
      "95\n",
      "99\n",
      "103\n",
      "107\n",
      "111\n",
      "115\n",
      "119\n",
      "123\n",
      "127\n",
      "131\n",
      "135\n",
      "139\n",
      "143\n",
      "147\n",
      "151\n",
      "155\n",
      "159\n",
      "163\n",
      "167\n",
      "171\n",
      "175\n",
      "179\n",
      "183\n",
      "187\n",
      "191\n",
      "195\n",
      "199\n",
      "203\n",
      "207\n",
      "211\n",
      "215\n",
      "219\n",
      "223\n",
      "227\n",
      "231\n",
      "235\n",
      "239\n",
      "243\n",
      "247\n",
      "251\n",
      "255\n",
      "259\n",
      "263\n",
      "267\n",
      "271\n",
      "275\n",
      "279\n",
      "283\n",
      "287\n",
      "291\n",
      "295\n",
      "299\n",
      "303\n",
      "307\n",
      "311\n",
      "315\n",
      "319\n",
      "323\n",
      "327\n",
      "331\n",
      "335\n",
      "339\n",
      "343\n",
      "347\n",
      "351\n",
      "355\n",
      "359\n",
      "363\n",
      "367\n",
      "371\n",
      "375\n",
      "379\n",
      "383\n",
      "387\n",
      "391\n",
      "395\n",
      "399\n",
      "403\n",
      "407\n",
      "411\n",
      "415\n",
      "419\n",
      "423\n",
      "427\n",
      "431\n",
      "435\n",
      "439\n",
      "443\n",
      "447\n",
      "451\n",
      "455\n",
      "459\n",
      "463\n",
      "467\n",
      "471\n",
      "475\n",
      "479\n",
      "483\n",
      "487\n",
      "491\n",
      "495\n",
      "499\n"
     ]
    }
   ],
   "source": [
    "result = []\n",
    "\n",
    "for i in range(500):\n",
    "    if i%4==0:\n",
    "        start_char='A'\n",
    "    elif i%4==1:\n",
    "        start_char='T'\n",
    "    elif i%4==2:\n",
    "        start_char='E'\n",
    "    elif i%4==3:\n",
    "        start_char='F'\n",
    "        print(i)\n",
    "    result.append(rnn_generator.generate_text(start_char, 200))\n",
    "with open('./result/lstm_shakespeare.pkl', 'wb+') as f:\n",
    "    pkl.dump(result, f)"
   ]
  },
  {
   "cell_type": "code",
   "execution_count": 12,
   "metadata": {},
   "outputs": [
    {
     "name": "stdout",
     "output_type": "stream",
     "text": [
      "Doktornő! azokban eltoltam, hogy genet azzal az első napig nem szoktam sem voltak nálam kisebb szaportot is, hogy szerette) Tisztelt Doktornő! Köszönöm segítségét és szeretnék a terhességi csikett és így eg\n"
     ]
    }
   ],
   "source": [
    "from src.rnn_model import RNNGenerator\n",
    "import pickle as pkl\n",
    "\n",
    "rnn_generator = RNNGenerator(rnn_model, dataset.chars_from_ids, dataset.ids_from_chars)\n",
    "print(rnn_generator.generate_text('Doktor', 200))"
   ]
  },
  {
   "cell_type": "code",
   "execution_count": 13,
   "metadata": {},
   "outputs": [
    {
     "name": "stdout",
     "output_type": "stream",
     "text": [
      "Doktornő/ 2 kivembészt: edett évett. Mi  lehet az endre a-V betegség, de napra ciklálom nagyon volt, felölg, hogy mit szét szorongathatok megegnjekci. 2 óra segítsen megijedve, s rossz.2 ma? A mikor ki erőt\n"
     ]
    }
   ],
   "source": [
    "from src.transformer_model import TransformerGenerator\n",
    "\n",
    "transformer_generator = TransformerGenerator(transformer, dataset.chars_from_ids, dataset.ids_from_chars)\n",
    "print(transformer_generator.generate_text('Doktor', 200))"
   ]
  }
 ],
 "metadata": {
  "kernelspec": {
   "display_name": "Python [conda env:deep_learning]",
   "language": "python",
   "name": "conda-env-deep_learning-py"
  },
  "language_info": {
   "codemirror_mode": {
    "name": "ipython",
    "version": 3
   },
   "file_extension": ".py",
   "mimetype": "text/x-python",
   "name": "python",
   "nbconvert_exporter": "python",
   "pygments_lexer": "ipython3",
   "version": "3.8.8"
  }
 },
 "nbformat": 4,
 "nbformat_minor": 4
}
