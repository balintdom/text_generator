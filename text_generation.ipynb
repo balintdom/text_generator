{
 "cells": [
  {
   "cell_type": "code",
   "execution_count": null,
   "metadata": {},
   "outputs": [],
   "source": [
    "%load_ext autoreload\n",
    "%autoreload 2"
   ]
  },
  {
   "cell_type": "markdown",
   "metadata": {},
   "source": [
    "## Data"
   ]
  },
  {
   "cell_type": "code",
   "execution_count": null,
   "metadata": {},
   "outputs": [],
   "source": [
    "# load WebBeteg db\n",
    "import json\n",
    "\n",
    "with open('./data/WebBeteg', 'rb') as f:\n",
    "    database = json.load(f)['_default']\n",
    "\n",
    "keys = list(database.keys())\n",
    "\n",
    "webbeteg = ' '.join([database[k]['text'] for k in keys[:2000]])"
   ]
  },
  {
   "cell_type": "code",
   "execution_count": null,
   "metadata": {},
   "outputs": [],
   "source": [
    "# load shakespeare db\n",
    "import tensorflow as tf\n",
    "from src.data import Dataset\n",
    "\n",
    "path_to_file = tf.keras.utils.get_file('shakespeare.txt', \n",
    "                                       'https://storage.googleapis.com/download.tensorflow.org/data/shakespeare.txt')\n",
    "shakespeare = open(path_to_file, 'rb').read().decode(encoding='utf-8')"
   ]
  },
  {
   "cell_type": "code",
   "execution_count": null,
   "metadata": {},
   "outputs": [],
   "source": [
    "#load moliere db\n",
    "with open('./data/moliere_complete.txt', 'r') as f:\n",
    "    moliere = ''.join(list(f))"
   ]
  },
  {
   "cell_type": "code",
   "execution_count": null,
   "metadata": {},
   "outputs": [],
   "source": [
    "#create a dataset from one of the db\n",
    "\n",
    "dataset = Dataset(webbeteg)"
   ]
  },
  {
   "cell_type": "markdown",
   "metadata": {},
   "source": [
    "## Model"
   ]
  },
  {
   "cell_type": "code",
   "execution_count": null,
   "metadata": {
    "scrolled": true
   },
   "outputs": [],
   "source": [
    "from src.transformer_model import TransformerDecoder\n",
    "from src.train import train\n",
    "\n",
    "num_layers = 6 #num of decoder layers\n",
    "d_model = 128 #dimension of the self-attention's feature space\n",
    "dff = 512 #dimension of the fully-connected layer's feature space\n",
    "num_heads = 8 #num of heads in each self-attention layer\n",
    "dropout_rate = 0.1 #dropout rate\n",
    "\n",
    "# instatiate and train the transformer decoder language model\n",
    "transformer = TransformerDecoder(\n",
    "    num_layers=num_layers,\n",
    "    d_model=d_model,\n",
    "    num_heads=num_heads,\n",
    "    dff=dff,\n",
    "    target_vocab_size=len(dataset.vocab),\n",
    "    maximum_position_encoding=100,\n",
    "    rate=dropout_rate)\n",
    "\n",
    "train(transformer,  dataset.dataset, 20)\n",
    "transformer.summary()"
   ]
  },
  {
   "cell_type": "code",
   "execution_count": null,
   "metadata": {
    "scrolled": true
   },
   "outputs": [],
   "source": [
    "from src.rnn_model import LSTMModel\n",
    "from src.train import train\n",
    "\n",
    "# The embedding dimension\n",
    "embedding_dim = 128\n",
    "\n",
    "# Number of RNN units\n",
    "rnn_units = 512\n",
    "\n",
    "# instatiate and train the lstm language model\n",
    "rnn_model = LSTMModel(\n",
    "    vocab_size=len(dataset.vocab),\n",
    "    embedding_dim=embedding_dim,\n",
    "    rnn_units=rnn_units)\n",
    "\n",
    "train(rnn_model, dataset.dataset, 20)\n",
    "rnn_model.summary()"
   ]
  },
  {
   "cell_type": "markdown",
   "metadata": {},
   "source": [
    "## Text generation"
   ]
  },
  {
   "cell_type": "code",
   "execution_count": null,
   "metadata": {},
   "outputs": [],
   "source": [
    "from src.rnn_model import RNNGenerator\n",
    "import pickle as pkl\n",
    "\n",
    "# create an lstm based text generator and print the result\n",
    "# the text seed is 'Doctor', the length is 200 character\n",
    "rnn_generator = RNNGenerator(rnn_model, dataset.chars_from_ids, dataset.ids_from_chars)\n",
    "print(rnn_generator.generate_text('Doktor', 200))"
   ]
  },
  {
   "cell_type": "code",
   "execution_count": null,
   "metadata": {},
   "outputs": [],
   "source": [
    "from src.transformer_model import TransformerGenerator\n",
    "\n",
    "# create a transformer based text generator and print the result\n",
    "# the text seed is 'Doctor', the length is 200 character\n",
    "transformer_generator = TransformerGenerator(transformer, dataset.chars_from_ids, dataset.ids_from_chars)\n",
    "print(transformer_generator.generate_text('Doktor', 200))"
   ]
  }
 ],
 "metadata": {
  "kernelspec": {
   "display_name": "Python [conda env:deep_learning]",
   "language": "python",
   "name": "conda-env-deep_learning-py"
  },
  "language_info": {
   "codemirror_mode": {
    "name": "ipython",
    "version": 3
   },
   "file_extension": ".py",
   "mimetype": "text/x-python",
   "name": "python",
   "nbconvert_exporter": "python",
   "pygments_lexer": "ipython3",
   "version": "3.8.8"
  }
 },
 "nbformat": 4,
 "nbformat_minor": 4
}
